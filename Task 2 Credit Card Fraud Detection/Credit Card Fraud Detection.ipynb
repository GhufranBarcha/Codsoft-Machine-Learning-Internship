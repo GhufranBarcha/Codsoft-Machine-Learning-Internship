{
 "cells": [
  {
   "cell_type": "markdown",
   "id": "f899fa33",
   "metadata": {},
   "source": [
    "# Task 2: Credit Card Fraud Detection\n",
    "    We are tasked to build a model to detect fraudulent credit card transactions. Using a\n",
    "    dataset containing information about credit card transactions, and We are going to\n",
    "    experiment with algorithms like Logistic Regression, Decision Trees,\n",
    "    or Random Forests to classify transactions as fraudulent or\n",
    "    legitimate. "
   ]
  },
  {
   "cell_type": "code",
   "execution_count": 1,
   "id": "0490240f",
   "metadata": {},
   "outputs": [],
   "source": [
    "## Import Necessary libraries\n",
    "\n",
    "import pandas as pd\n",
    "from datetime import datetime\n",
    "import seaborn as sns\n",
    "import matplotlib.pyplot as plt\n",
    "\n",
    "\n",
    "from imblearn.under_sampling import RandomUnderSampler"
   ]
  },
  {
   "cell_type": "markdown",
   "id": "8d714631",
   "metadata": {},
   "source": [
    "# Steps\n",
    "## 1. Data Collection\n",
    "## 2. Preparing the Data\n",
    "## 3. Data Preprocessing\n",
    "## 4. Model selection\n",
    "## 5. Model Testing"
   ]
  },
  {
   "cell_type": "markdown",
   "id": "372e4bfb",
   "metadata": {},
   "source": [
    "# Data Collection\n",
    "   We are going the import the csv files which contain the necessary fraud data you can download it from kaggle .    https://www.kaggle.com/datasets/kartik2112/fraud-detection\n",
    "   \n",
    "   ### About the Dataset\n",
    "     This is a simulated credit card transaction dataset containing legitimate and fraud transactions from the duration 1st Jan 2019 - 31st Dec 2020. It covers credit cards of 1000 customers doing transactions with a pool of 800 merchants.\n",
    "   "
   ]
  },
  {
   "cell_type": "code",
   "execution_count": 2,
   "id": "3e9d7681",
   "metadata": {},
   "outputs": [],
   "source": [
    "## Read the data\n",
    "\n",
    "train_df = pd.read_csv(\"./Credit Card Dataset/fraudTrain.csv\")\n",
    "test_df = pd.read_csv(\"./Credit Card Dataset/fraudTest.csv\")"
   ]
  },
  {
   "cell_type": "code",
   "execution_count": 3,
   "id": "c9eb6bcc",
   "metadata": {},
   "outputs": [
    {
     "data": {
      "text/html": [
       "<div>\n",
       "<style scoped>\n",
       "    .dataframe tbody tr th:only-of-type {\n",
       "        vertical-align: middle;\n",
       "    }\n",
       "\n",
       "    .dataframe tbody tr th {\n",
       "        vertical-align: top;\n",
       "    }\n",
       "\n",
       "    .dataframe thead th {\n",
       "        text-align: right;\n",
       "    }\n",
       "</style>\n",
       "<table border=\"1\" class=\"dataframe\">\n",
       "  <thead>\n",
       "    <tr style=\"text-align: right;\">\n",
       "      <th></th>\n",
       "      <th>Unnamed: 0</th>\n",
       "      <th>trans_date_trans_time</th>\n",
       "      <th>cc_num</th>\n",
       "      <th>merchant</th>\n",
       "      <th>category</th>\n",
       "      <th>amt</th>\n",
       "      <th>first</th>\n",
       "      <th>last</th>\n",
       "      <th>gender</th>\n",
       "      <th>street</th>\n",
       "      <th>...</th>\n",
       "      <th>lat</th>\n",
       "      <th>long</th>\n",
       "      <th>city_pop</th>\n",
       "      <th>job</th>\n",
       "      <th>dob</th>\n",
       "      <th>trans_num</th>\n",
       "      <th>unix_time</th>\n",
       "      <th>merch_lat</th>\n",
       "      <th>merch_long</th>\n",
       "      <th>is_fraud</th>\n",
       "    </tr>\n",
       "  </thead>\n",
       "  <tbody>\n",
       "    <tr>\n",
       "      <th>0</th>\n",
       "      <td>0</td>\n",
       "      <td>2019-01-01 00:00:18</td>\n",
       "      <td>2703186189652095</td>\n",
       "      <td>fraud_Rippin, Kub and Mann</td>\n",
       "      <td>misc_net</td>\n",
       "      <td>4.97</td>\n",
       "      <td>Jennifer</td>\n",
       "      <td>Banks</td>\n",
       "      <td>F</td>\n",
       "      <td>561 Perry Cove</td>\n",
       "      <td>...</td>\n",
       "      <td>36.0788</td>\n",
       "      <td>-81.1781</td>\n",
       "      <td>3495</td>\n",
       "      <td>Psychologist, counselling</td>\n",
       "      <td>1988-03-09</td>\n",
       "      <td>0b242abb623afc578575680df30655b9</td>\n",
       "      <td>1325376018</td>\n",
       "      <td>36.011293</td>\n",
       "      <td>-82.048315</td>\n",
       "      <td>0</td>\n",
       "    </tr>\n",
       "    <tr>\n",
       "      <th>1</th>\n",
       "      <td>1</td>\n",
       "      <td>2019-01-01 00:00:44</td>\n",
       "      <td>630423337322</td>\n",
       "      <td>fraud_Heller, Gutmann and Zieme</td>\n",
       "      <td>grocery_pos</td>\n",
       "      <td>107.23</td>\n",
       "      <td>Stephanie</td>\n",
       "      <td>Gill</td>\n",
       "      <td>F</td>\n",
       "      <td>43039 Riley Greens Suite 393</td>\n",
       "      <td>...</td>\n",
       "      <td>48.8878</td>\n",
       "      <td>-118.2105</td>\n",
       "      <td>149</td>\n",
       "      <td>Special educational needs teacher</td>\n",
       "      <td>1978-06-21</td>\n",
       "      <td>1f76529f8574734946361c461b024d99</td>\n",
       "      <td>1325376044</td>\n",
       "      <td>49.159047</td>\n",
       "      <td>-118.186462</td>\n",
       "      <td>0</td>\n",
       "    </tr>\n",
       "    <tr>\n",
       "      <th>2</th>\n",
       "      <td>2</td>\n",
       "      <td>2019-01-01 00:00:51</td>\n",
       "      <td>38859492057661</td>\n",
       "      <td>fraud_Lind-Buckridge</td>\n",
       "      <td>entertainment</td>\n",
       "      <td>220.11</td>\n",
       "      <td>Edward</td>\n",
       "      <td>Sanchez</td>\n",
       "      <td>M</td>\n",
       "      <td>594 White Dale Suite 530</td>\n",
       "      <td>...</td>\n",
       "      <td>42.1808</td>\n",
       "      <td>-112.2620</td>\n",
       "      <td>4154</td>\n",
       "      <td>Nature conservation officer</td>\n",
       "      <td>1962-01-19</td>\n",
       "      <td>a1a22d70485983eac12b5b88dad1cf95</td>\n",
       "      <td>1325376051</td>\n",
       "      <td>43.150704</td>\n",
       "      <td>-112.154481</td>\n",
       "      <td>0</td>\n",
       "    </tr>\n",
       "    <tr>\n",
       "      <th>3</th>\n",
       "      <td>3</td>\n",
       "      <td>2019-01-01 00:01:16</td>\n",
       "      <td>3534093764340240</td>\n",
       "      <td>fraud_Kutch, Hermiston and Farrell</td>\n",
       "      <td>gas_transport</td>\n",
       "      <td>45.00</td>\n",
       "      <td>Jeremy</td>\n",
       "      <td>White</td>\n",
       "      <td>M</td>\n",
       "      <td>9443 Cynthia Court Apt. 038</td>\n",
       "      <td>...</td>\n",
       "      <td>46.2306</td>\n",
       "      <td>-112.1138</td>\n",
       "      <td>1939</td>\n",
       "      <td>Patent attorney</td>\n",
       "      <td>1967-01-12</td>\n",
       "      <td>6b849c168bdad6f867558c3793159a81</td>\n",
       "      <td>1325376076</td>\n",
       "      <td>47.034331</td>\n",
       "      <td>-112.561071</td>\n",
       "      <td>0</td>\n",
       "    </tr>\n",
       "    <tr>\n",
       "      <th>4</th>\n",
       "      <td>4</td>\n",
       "      <td>2019-01-01 00:03:06</td>\n",
       "      <td>375534208663984</td>\n",
       "      <td>fraud_Keeling-Crist</td>\n",
       "      <td>misc_pos</td>\n",
       "      <td>41.96</td>\n",
       "      <td>Tyler</td>\n",
       "      <td>Garcia</td>\n",
       "      <td>M</td>\n",
       "      <td>408 Bradley Rest</td>\n",
       "      <td>...</td>\n",
       "      <td>38.4207</td>\n",
       "      <td>-79.4629</td>\n",
       "      <td>99</td>\n",
       "      <td>Dance movement psychotherapist</td>\n",
       "      <td>1986-03-28</td>\n",
       "      <td>a41d7549acf90789359a9aa5346dcb46</td>\n",
       "      <td>1325376186</td>\n",
       "      <td>38.674999</td>\n",
       "      <td>-78.632459</td>\n",
       "      <td>0</td>\n",
       "    </tr>\n",
       "  </tbody>\n",
       "</table>\n",
       "<p>5 rows × 23 columns</p>\n",
       "</div>"
      ],
      "text/plain": [
       "   Unnamed: 0 trans_date_trans_time            cc_num  \\\n",
       "0           0   2019-01-01 00:00:18  2703186189652095   \n",
       "1           1   2019-01-01 00:00:44      630423337322   \n",
       "2           2   2019-01-01 00:00:51    38859492057661   \n",
       "3           3   2019-01-01 00:01:16  3534093764340240   \n",
       "4           4   2019-01-01 00:03:06   375534208663984   \n",
       "\n",
       "                             merchant       category     amt      first  \\\n",
       "0          fraud_Rippin, Kub and Mann       misc_net    4.97   Jennifer   \n",
       "1     fraud_Heller, Gutmann and Zieme    grocery_pos  107.23  Stephanie   \n",
       "2                fraud_Lind-Buckridge  entertainment  220.11     Edward   \n",
       "3  fraud_Kutch, Hermiston and Farrell  gas_transport   45.00     Jeremy   \n",
       "4                 fraud_Keeling-Crist       misc_pos   41.96      Tyler   \n",
       "\n",
       "      last gender                        street  ...      lat      long  \\\n",
       "0    Banks      F                561 Perry Cove  ...  36.0788  -81.1781   \n",
       "1     Gill      F  43039 Riley Greens Suite 393  ...  48.8878 -118.2105   \n",
       "2  Sanchez      M      594 White Dale Suite 530  ...  42.1808 -112.2620   \n",
       "3    White      M   9443 Cynthia Court Apt. 038  ...  46.2306 -112.1138   \n",
       "4   Garcia      M              408 Bradley Rest  ...  38.4207  -79.4629   \n",
       "\n",
       "   city_pop                                job         dob  \\\n",
       "0      3495          Psychologist, counselling  1988-03-09   \n",
       "1       149  Special educational needs teacher  1978-06-21   \n",
       "2      4154        Nature conservation officer  1962-01-19   \n",
       "3      1939                    Patent attorney  1967-01-12   \n",
       "4        99     Dance movement psychotherapist  1986-03-28   \n",
       "\n",
       "                          trans_num   unix_time  merch_lat  merch_long  \\\n",
       "0  0b242abb623afc578575680df30655b9  1325376018  36.011293  -82.048315   \n",
       "1  1f76529f8574734946361c461b024d99  1325376044  49.159047 -118.186462   \n",
       "2  a1a22d70485983eac12b5b88dad1cf95  1325376051  43.150704 -112.154481   \n",
       "3  6b849c168bdad6f867558c3793159a81  1325376076  47.034331 -112.561071   \n",
       "4  a41d7549acf90789359a9aa5346dcb46  1325376186  38.674999  -78.632459   \n",
       "\n",
       "   is_fraud  \n",
       "0         0  \n",
       "1         0  \n",
       "2         0  \n",
       "3         0  \n",
       "4         0  \n",
       "\n",
       "[5 rows x 23 columns]"
      ]
     },
     "execution_count": 3,
     "metadata": {},
     "output_type": "execute_result"
    }
   ],
   "source": [
    "## View the train data\n",
    "train_df.head(5)"
   ]
  },
  {
   "cell_type": "markdown",
   "id": "241c36dd",
   "metadata": {},
   "source": [
    "# Preparing the Data\n",
    "- Remove any missing columns or rows\n",
    "- Check for duplicates and remove them\n",
    "- Remmove unnecessary columns and rows"
   ]
  },
  {
   "cell_type": "markdown",
   "id": "6429bc1c",
   "metadata": {},
   "source": [
    "## Check basic Info"
   ]
  },
  {
   "cell_type": "code",
   "execution_count": 4,
   "id": "25145435",
   "metadata": {},
   "outputs": [
    {
     "name": "stdout",
     "output_type": "stream",
     "text": [
      "<class 'pandas.core.frame.DataFrame'>\n",
      "RangeIndex: 1296675 entries, 0 to 1296674\n",
      "Data columns (total 23 columns):\n",
      " #   Column                 Non-Null Count    Dtype  \n",
      "---  ------                 --------------    -----  \n",
      " 0   Unnamed: 0             1296675 non-null  int64  \n",
      " 1   trans_date_trans_time  1296675 non-null  object \n",
      " 2   cc_num                 1296675 non-null  int64  \n",
      " 3   merchant               1296675 non-null  object \n",
      " 4   category               1296675 non-null  object \n",
      " 5   amt                    1296675 non-null  float64\n",
      " 6   first                  1296675 non-null  object \n",
      " 7   last                   1296675 non-null  object \n",
      " 8   gender                 1296675 non-null  object \n",
      " 9   street                 1296675 non-null  object \n",
      " 10  city                   1296675 non-null  object \n",
      " 11  state                  1296675 non-null  object \n",
      " 12  zip                    1296675 non-null  int64  \n",
      " 13  lat                    1296675 non-null  float64\n",
      " 14  long                   1296675 non-null  float64\n",
      " 15  city_pop               1296675 non-null  int64  \n",
      " 16  job                    1296675 non-null  object \n",
      " 17  dob                    1296675 non-null  object \n",
      " 18  trans_num              1296675 non-null  object \n",
      " 19  unix_time              1296675 non-null  int64  \n",
      " 20  merch_lat              1296675 non-null  float64\n",
      " 21  merch_long             1296675 non-null  float64\n",
      " 22  is_fraud               1296675 non-null  int64  \n",
      "dtypes: float64(5), int64(6), object(12)\n",
      "memory usage: 227.5+ MB\n"
     ]
    }
   ],
   "source": [
    "## First do a basic analysis\n",
    "train_df.info()"
   ]
  },
  {
   "cell_type": "code",
   "execution_count": 5,
   "id": "b90e6740",
   "metadata": {},
   "outputs": [
    {
     "data": {
      "text/html": [
       "<div>\n",
       "<style scoped>\n",
       "    .dataframe tbody tr th:only-of-type {\n",
       "        vertical-align: middle;\n",
       "    }\n",
       "\n",
       "    .dataframe tbody tr th {\n",
       "        vertical-align: top;\n",
       "    }\n",
       "\n",
       "    .dataframe thead th {\n",
       "        text-align: right;\n",
       "    }\n",
       "</style>\n",
       "<table border=\"1\" class=\"dataframe\">\n",
       "  <thead>\n",
       "    <tr style=\"text-align: right;\">\n",
       "      <th></th>\n",
       "      <th>Unnamed: 0</th>\n",
       "      <th>trans_date_trans_time</th>\n",
       "      <th>cc_num</th>\n",
       "      <th>merchant</th>\n",
       "      <th>category</th>\n",
       "      <th>amt</th>\n",
       "      <th>first</th>\n",
       "      <th>last</th>\n",
       "      <th>gender</th>\n",
       "      <th>street</th>\n",
       "      <th>...</th>\n",
       "      <th>lat</th>\n",
       "      <th>long</th>\n",
       "      <th>city_pop</th>\n",
       "      <th>job</th>\n",
       "      <th>dob</th>\n",
       "      <th>trans_num</th>\n",
       "      <th>unix_time</th>\n",
       "      <th>merch_lat</th>\n",
       "      <th>merch_long</th>\n",
       "      <th>is_fraud</th>\n",
       "    </tr>\n",
       "  </thead>\n",
       "  <tbody>\n",
       "    <tr>\n",
       "      <th>count</th>\n",
       "      <td>1.296675e+06</td>\n",
       "      <td>1296675</td>\n",
       "      <td>1.296675e+06</td>\n",
       "      <td>1296675</td>\n",
       "      <td>1296675</td>\n",
       "      <td>1.296675e+06</td>\n",
       "      <td>1296675</td>\n",
       "      <td>1296675</td>\n",
       "      <td>1296675</td>\n",
       "      <td>1296675</td>\n",
       "      <td>...</td>\n",
       "      <td>1.296675e+06</td>\n",
       "      <td>1.296675e+06</td>\n",
       "      <td>1.296675e+06</td>\n",
       "      <td>1296675</td>\n",
       "      <td>1296675</td>\n",
       "      <td>1296675</td>\n",
       "      <td>1.296675e+06</td>\n",
       "      <td>1.296675e+06</td>\n",
       "      <td>1.296675e+06</td>\n",
       "      <td>1.296675e+06</td>\n",
       "    </tr>\n",
       "    <tr>\n",
       "      <th>unique</th>\n",
       "      <td>NaN</td>\n",
       "      <td>1274791</td>\n",
       "      <td>NaN</td>\n",
       "      <td>693</td>\n",
       "      <td>14</td>\n",
       "      <td>NaN</td>\n",
       "      <td>352</td>\n",
       "      <td>481</td>\n",
       "      <td>2</td>\n",
       "      <td>983</td>\n",
       "      <td>...</td>\n",
       "      <td>NaN</td>\n",
       "      <td>NaN</td>\n",
       "      <td>NaN</td>\n",
       "      <td>494</td>\n",
       "      <td>968</td>\n",
       "      <td>1296675</td>\n",
       "      <td>NaN</td>\n",
       "      <td>NaN</td>\n",
       "      <td>NaN</td>\n",
       "      <td>NaN</td>\n",
       "    </tr>\n",
       "    <tr>\n",
       "      <th>top</th>\n",
       "      <td>NaN</td>\n",
       "      <td>2019-04-22 16:02:01</td>\n",
       "      <td>NaN</td>\n",
       "      <td>fraud_Kilback LLC</td>\n",
       "      <td>gas_transport</td>\n",
       "      <td>NaN</td>\n",
       "      <td>Christopher</td>\n",
       "      <td>Smith</td>\n",
       "      <td>F</td>\n",
       "      <td>0069 Robin Brooks Apt. 695</td>\n",
       "      <td>...</td>\n",
       "      <td>NaN</td>\n",
       "      <td>NaN</td>\n",
       "      <td>NaN</td>\n",
       "      <td>Film/video editor</td>\n",
       "      <td>1977-03-23</td>\n",
       "      <td>0b242abb623afc578575680df30655b9</td>\n",
       "      <td>NaN</td>\n",
       "      <td>NaN</td>\n",
       "      <td>NaN</td>\n",
       "      <td>NaN</td>\n",
       "    </tr>\n",
       "    <tr>\n",
       "      <th>freq</th>\n",
       "      <td>NaN</td>\n",
       "      <td>4</td>\n",
       "      <td>NaN</td>\n",
       "      <td>4403</td>\n",
       "      <td>131659</td>\n",
       "      <td>NaN</td>\n",
       "      <td>26669</td>\n",
       "      <td>28794</td>\n",
       "      <td>709863</td>\n",
       "      <td>3123</td>\n",
       "      <td>...</td>\n",
       "      <td>NaN</td>\n",
       "      <td>NaN</td>\n",
       "      <td>NaN</td>\n",
       "      <td>9779</td>\n",
       "      <td>5636</td>\n",
       "      <td>1</td>\n",
       "      <td>NaN</td>\n",
       "      <td>NaN</td>\n",
       "      <td>NaN</td>\n",
       "      <td>NaN</td>\n",
       "    </tr>\n",
       "    <tr>\n",
       "      <th>mean</th>\n",
       "      <td>6.483370e+05</td>\n",
       "      <td>NaN</td>\n",
       "      <td>4.171920e+17</td>\n",
       "      <td>NaN</td>\n",
       "      <td>NaN</td>\n",
       "      <td>7.035104e+01</td>\n",
       "      <td>NaN</td>\n",
       "      <td>NaN</td>\n",
       "      <td>NaN</td>\n",
       "      <td>NaN</td>\n",
       "      <td>...</td>\n",
       "      <td>3.853762e+01</td>\n",
       "      <td>-9.022634e+01</td>\n",
       "      <td>8.882444e+04</td>\n",
       "      <td>NaN</td>\n",
       "      <td>NaN</td>\n",
       "      <td>NaN</td>\n",
       "      <td>1.349244e+09</td>\n",
       "      <td>3.853734e+01</td>\n",
       "      <td>-9.022646e+01</td>\n",
       "      <td>5.788652e-03</td>\n",
       "    </tr>\n",
       "    <tr>\n",
       "      <th>std</th>\n",
       "      <td>3.743180e+05</td>\n",
       "      <td>NaN</td>\n",
       "      <td>1.308806e+18</td>\n",
       "      <td>NaN</td>\n",
       "      <td>NaN</td>\n",
       "      <td>1.603160e+02</td>\n",
       "      <td>NaN</td>\n",
       "      <td>NaN</td>\n",
       "      <td>NaN</td>\n",
       "      <td>NaN</td>\n",
       "      <td>...</td>\n",
       "      <td>5.075808e+00</td>\n",
       "      <td>1.375908e+01</td>\n",
       "      <td>3.019564e+05</td>\n",
       "      <td>NaN</td>\n",
       "      <td>NaN</td>\n",
       "      <td>NaN</td>\n",
       "      <td>1.284128e+07</td>\n",
       "      <td>5.109788e+00</td>\n",
       "      <td>1.377109e+01</td>\n",
       "      <td>7.586269e-02</td>\n",
       "    </tr>\n",
       "    <tr>\n",
       "      <th>min</th>\n",
       "      <td>0.000000e+00</td>\n",
       "      <td>NaN</td>\n",
       "      <td>6.041621e+10</td>\n",
       "      <td>NaN</td>\n",
       "      <td>NaN</td>\n",
       "      <td>1.000000e+00</td>\n",
       "      <td>NaN</td>\n",
       "      <td>NaN</td>\n",
       "      <td>NaN</td>\n",
       "      <td>NaN</td>\n",
       "      <td>...</td>\n",
       "      <td>2.002710e+01</td>\n",
       "      <td>-1.656723e+02</td>\n",
       "      <td>2.300000e+01</td>\n",
       "      <td>NaN</td>\n",
       "      <td>NaN</td>\n",
       "      <td>NaN</td>\n",
       "      <td>1.325376e+09</td>\n",
       "      <td>1.902779e+01</td>\n",
       "      <td>-1.666712e+02</td>\n",
       "      <td>0.000000e+00</td>\n",
       "    </tr>\n",
       "    <tr>\n",
       "      <th>25%</th>\n",
       "      <td>3.241685e+05</td>\n",
       "      <td>NaN</td>\n",
       "      <td>1.800429e+14</td>\n",
       "      <td>NaN</td>\n",
       "      <td>NaN</td>\n",
       "      <td>9.650000e+00</td>\n",
       "      <td>NaN</td>\n",
       "      <td>NaN</td>\n",
       "      <td>NaN</td>\n",
       "      <td>NaN</td>\n",
       "      <td>...</td>\n",
       "      <td>3.462050e+01</td>\n",
       "      <td>-9.679800e+01</td>\n",
       "      <td>7.430000e+02</td>\n",
       "      <td>NaN</td>\n",
       "      <td>NaN</td>\n",
       "      <td>NaN</td>\n",
       "      <td>1.338751e+09</td>\n",
       "      <td>3.473357e+01</td>\n",
       "      <td>-9.689728e+01</td>\n",
       "      <td>0.000000e+00</td>\n",
       "    </tr>\n",
       "    <tr>\n",
       "      <th>50%</th>\n",
       "      <td>6.483370e+05</td>\n",
       "      <td>NaN</td>\n",
       "      <td>3.521417e+15</td>\n",
       "      <td>NaN</td>\n",
       "      <td>NaN</td>\n",
       "      <td>4.752000e+01</td>\n",
       "      <td>NaN</td>\n",
       "      <td>NaN</td>\n",
       "      <td>NaN</td>\n",
       "      <td>NaN</td>\n",
       "      <td>...</td>\n",
       "      <td>3.935430e+01</td>\n",
       "      <td>-8.747690e+01</td>\n",
       "      <td>2.456000e+03</td>\n",
       "      <td>NaN</td>\n",
       "      <td>NaN</td>\n",
       "      <td>NaN</td>\n",
       "      <td>1.349250e+09</td>\n",
       "      <td>3.936568e+01</td>\n",
       "      <td>-8.743839e+01</td>\n",
       "      <td>0.000000e+00</td>\n",
       "    </tr>\n",
       "    <tr>\n",
       "      <th>75%</th>\n",
       "      <td>9.725055e+05</td>\n",
       "      <td>NaN</td>\n",
       "      <td>4.642255e+15</td>\n",
       "      <td>NaN</td>\n",
       "      <td>NaN</td>\n",
       "      <td>8.314000e+01</td>\n",
       "      <td>NaN</td>\n",
       "      <td>NaN</td>\n",
       "      <td>NaN</td>\n",
       "      <td>NaN</td>\n",
       "      <td>...</td>\n",
       "      <td>4.194040e+01</td>\n",
       "      <td>-8.015800e+01</td>\n",
       "      <td>2.032800e+04</td>\n",
       "      <td>NaN</td>\n",
       "      <td>NaN</td>\n",
       "      <td>NaN</td>\n",
       "      <td>1.359385e+09</td>\n",
       "      <td>4.195716e+01</td>\n",
       "      <td>-8.023680e+01</td>\n",
       "      <td>0.000000e+00</td>\n",
       "    </tr>\n",
       "    <tr>\n",
       "      <th>max</th>\n",
       "      <td>1.296674e+06</td>\n",
       "      <td>NaN</td>\n",
       "      <td>4.992346e+18</td>\n",
       "      <td>NaN</td>\n",
       "      <td>NaN</td>\n",
       "      <td>2.894890e+04</td>\n",
       "      <td>NaN</td>\n",
       "      <td>NaN</td>\n",
       "      <td>NaN</td>\n",
       "      <td>NaN</td>\n",
       "      <td>...</td>\n",
       "      <td>6.669330e+01</td>\n",
       "      <td>-6.795030e+01</td>\n",
       "      <td>2.906700e+06</td>\n",
       "      <td>NaN</td>\n",
       "      <td>NaN</td>\n",
       "      <td>NaN</td>\n",
       "      <td>1.371817e+09</td>\n",
       "      <td>6.751027e+01</td>\n",
       "      <td>-6.695090e+01</td>\n",
       "      <td>1.000000e+00</td>\n",
       "    </tr>\n",
       "  </tbody>\n",
       "</table>\n",
       "<p>11 rows × 23 columns</p>\n",
       "</div>"
      ],
      "text/plain": [
       "          Unnamed: 0 trans_date_trans_time        cc_num           merchant  \\\n",
       "count   1.296675e+06               1296675  1.296675e+06            1296675   \n",
       "unique           NaN               1274791           NaN                693   \n",
       "top              NaN   2019-04-22 16:02:01           NaN  fraud_Kilback LLC   \n",
       "freq             NaN                     4           NaN               4403   \n",
       "mean    6.483370e+05                   NaN  4.171920e+17                NaN   \n",
       "std     3.743180e+05                   NaN  1.308806e+18                NaN   \n",
       "min     0.000000e+00                   NaN  6.041621e+10                NaN   \n",
       "25%     3.241685e+05                   NaN  1.800429e+14                NaN   \n",
       "50%     6.483370e+05                   NaN  3.521417e+15                NaN   \n",
       "75%     9.725055e+05                   NaN  4.642255e+15                NaN   \n",
       "max     1.296674e+06                   NaN  4.992346e+18                NaN   \n",
       "\n",
       "             category           amt        first     last   gender  \\\n",
       "count         1296675  1.296675e+06      1296675  1296675  1296675   \n",
       "unique             14           NaN          352      481        2   \n",
       "top     gas_transport           NaN  Christopher    Smith        F   \n",
       "freq           131659           NaN        26669    28794   709863   \n",
       "mean              NaN  7.035104e+01          NaN      NaN      NaN   \n",
       "std               NaN  1.603160e+02          NaN      NaN      NaN   \n",
       "min               NaN  1.000000e+00          NaN      NaN      NaN   \n",
       "25%               NaN  9.650000e+00          NaN      NaN      NaN   \n",
       "50%               NaN  4.752000e+01          NaN      NaN      NaN   \n",
       "75%               NaN  8.314000e+01          NaN      NaN      NaN   \n",
       "max               NaN  2.894890e+04          NaN      NaN      NaN   \n",
       "\n",
       "                            street  ...           lat          long  \\\n",
       "count                      1296675  ...  1.296675e+06  1.296675e+06   \n",
       "unique                         983  ...           NaN           NaN   \n",
       "top     0069 Robin Brooks Apt. 695  ...           NaN           NaN   \n",
       "freq                          3123  ...           NaN           NaN   \n",
       "mean                           NaN  ...  3.853762e+01 -9.022634e+01   \n",
       "std                            NaN  ...  5.075808e+00  1.375908e+01   \n",
       "min                            NaN  ...  2.002710e+01 -1.656723e+02   \n",
       "25%                            NaN  ...  3.462050e+01 -9.679800e+01   \n",
       "50%                            NaN  ...  3.935430e+01 -8.747690e+01   \n",
       "75%                            NaN  ...  4.194040e+01 -8.015800e+01   \n",
       "max                            NaN  ...  6.669330e+01 -6.795030e+01   \n",
       "\n",
       "            city_pop                job         dob  \\\n",
       "count   1.296675e+06            1296675     1296675   \n",
       "unique           NaN                494         968   \n",
       "top              NaN  Film/video editor  1977-03-23   \n",
       "freq             NaN               9779        5636   \n",
       "mean    8.882444e+04                NaN         NaN   \n",
       "std     3.019564e+05                NaN         NaN   \n",
       "min     2.300000e+01                NaN         NaN   \n",
       "25%     7.430000e+02                NaN         NaN   \n",
       "50%     2.456000e+03                NaN         NaN   \n",
       "75%     2.032800e+04                NaN         NaN   \n",
       "max     2.906700e+06                NaN         NaN   \n",
       "\n",
       "                               trans_num     unix_time     merch_lat  \\\n",
       "count                            1296675  1.296675e+06  1.296675e+06   \n",
       "unique                           1296675           NaN           NaN   \n",
       "top     0b242abb623afc578575680df30655b9           NaN           NaN   \n",
       "freq                                   1           NaN           NaN   \n",
       "mean                                 NaN  1.349244e+09  3.853734e+01   \n",
       "std                                  NaN  1.284128e+07  5.109788e+00   \n",
       "min                                  NaN  1.325376e+09  1.902779e+01   \n",
       "25%                                  NaN  1.338751e+09  3.473357e+01   \n",
       "50%                                  NaN  1.349250e+09  3.936568e+01   \n",
       "75%                                  NaN  1.359385e+09  4.195716e+01   \n",
       "max                                  NaN  1.371817e+09  6.751027e+01   \n",
       "\n",
       "          merch_long      is_fraud  \n",
       "count   1.296675e+06  1.296675e+06  \n",
       "unique           NaN           NaN  \n",
       "top              NaN           NaN  \n",
       "freq             NaN           NaN  \n",
       "mean   -9.022646e+01  5.788652e-03  \n",
       "std     1.377109e+01  7.586269e-02  \n",
       "min    -1.666712e+02  0.000000e+00  \n",
       "25%    -9.689728e+01  0.000000e+00  \n",
       "50%    -8.743839e+01  0.000000e+00  \n",
       "75%    -8.023680e+01  0.000000e+00  \n",
       "max    -6.695090e+01  1.000000e+00  \n",
       "\n",
       "[11 rows x 23 columns]"
      ]
     },
     "execution_count": 5,
     "metadata": {},
     "output_type": "execute_result"
    }
   ],
   "source": [
    "## Check Basic statical \n",
    "train_df.describe( include = \"all\")\n"
   ]
  },
  {
   "cell_type": "markdown",
   "id": "2d9cf0c0",
   "metadata": {},
   "source": [
    "## Remove duplicates and missing values"
   ]
  },
  {
   "cell_type": "code",
   "execution_count": 6,
   "id": "46333d2b",
   "metadata": {},
   "outputs": [
    {
     "data": {
      "text/plain": [
       "Unnamed: 0               0\n",
       "trans_date_trans_time    0\n",
       "cc_num                   0\n",
       "merchant                 0\n",
       "category                 0\n",
       "amt                      0\n",
       "first                    0\n",
       "last                     0\n",
       "gender                   0\n",
       "street                   0\n",
       "city                     0\n",
       "state                    0\n",
       "zip                      0\n",
       "lat                      0\n",
       "long                     0\n",
       "city_pop                 0\n",
       "job                      0\n",
       "dob                      0\n",
       "trans_num                0\n",
       "unix_time                0\n",
       "merch_lat                0\n",
       "merch_long               0\n",
       "is_fraud                 0\n",
       "dtype: int64"
      ]
     },
     "execution_count": 6,
     "metadata": {},
     "output_type": "execute_result"
    }
   ],
   "source": [
    "## Check for missing values\n",
    "train_df.isna().sum()"
   ]
  },
  {
   "cell_type": "code",
   "execution_count": 7,
   "id": "2384195c",
   "metadata": {},
   "outputs": [
    {
     "data": {
      "text/plain": [
       "Unnamed: 0               0\n",
       "trans_date_trans_time    0\n",
       "cc_num                   0\n",
       "merchant                 0\n",
       "category                 0\n",
       "amt                      0\n",
       "first                    0\n",
       "last                     0\n",
       "gender                   0\n",
       "street                   0\n",
       "city                     0\n",
       "state                    0\n",
       "zip                      0\n",
       "lat                      0\n",
       "long                     0\n",
       "city_pop                 0\n",
       "job                      0\n",
       "dob                      0\n",
       "trans_num                0\n",
       "unix_time                0\n",
       "merch_lat                0\n",
       "merch_long               0\n",
       "is_fraud                 0\n",
       "dtype: int64"
      ]
     },
     "execution_count": 7,
     "metadata": {},
     "output_type": "execute_result"
    }
   ],
   "source": [
    "## check for test data null values\n",
    "test_df.isna().sum()"
   ]
  },
  {
   "cell_type": "code",
   "execution_count": 8,
   "id": "55f92038",
   "metadata": {},
   "outputs": [
    {
     "data": {
      "text/plain": [
       "0"
      ]
     },
     "execution_count": 8,
     "metadata": {},
     "output_type": "execute_result"
    }
   ],
   "source": [
    "## Check for any duplicates\n",
    "\n",
    "train_df.duplicated().sum()"
   ]
  },
  {
   "cell_type": "code",
   "execution_count": 9,
   "id": "9b02697e",
   "metadata": {},
   "outputs": [
    {
     "data": {
      "text/plain": [
       "0"
      ]
     },
     "execution_count": 9,
     "metadata": {},
     "output_type": "execute_result"
    }
   ],
   "source": [
    "## Check for duplicates in test data\n",
    "test_df.duplicated().sum()"
   ]
  },
  {
   "cell_type": "code",
   "execution_count": 10,
   "id": "23e83e39",
   "metadata": {},
   "outputs": [
    {
     "data": {
      "text/plain": [
       "Unnamed: 0                                              0\n",
       "trans_date_trans_time                 2019-01-01 00:00:18\n",
       "cc_num                                   2703186189652095\n",
       "merchant                       fraud_Rippin, Kub and Mann\n",
       "category                                         misc_net\n",
       "amt                                                  4.97\n",
       "first                                            Jennifer\n",
       "last                                                Banks\n",
       "gender                                                  F\n",
       "street                                     561 Perry Cove\n",
       "city                                       Moravian Falls\n",
       "state                                                  NC\n",
       "zip                                                 28654\n",
       "lat                                               36.0788\n",
       "long                                             -81.1781\n",
       "city_pop                                             3495\n",
       "job                             Psychologist, counselling\n",
       "dob                                            1988-03-09\n",
       "trans_num                0b242abb623afc578575680df30655b9\n",
       "unix_time                                      1325376018\n",
       "merch_lat                                       36.011293\n",
       "merch_long                                     -82.048315\n",
       "is_fraud                                                0\n",
       "Name: 0, dtype: object"
      ]
     },
     "execution_count": 10,
     "metadata": {},
     "output_type": "execute_result"
    }
   ],
   "source": [
    "## Check a single rows of data\n",
    "train_df.iloc[0,:]"
   ]
  },
  {
   "cell_type": "markdown",
   "id": "f5654869",
   "metadata": {},
   "source": [
    "## Removing unnecessary features"
   ]
  },
  {
   "cell_type": "code",
   "execution_count": 11,
   "id": "08cb2834",
   "metadata": {},
   "outputs": [
    {
     "data": {
      "text/plain": [
       "1296675"
      ]
     },
     "execution_count": 11,
     "metadata": {},
     "output_type": "execute_result"
    }
   ],
   "source": [
    "## Check for unique features in data\n",
    "train_df[\"trans_num\"].nunique()"
   ]
  },
  {
   "cell_type": "code",
   "execution_count": 12,
   "id": "aa19dbcc",
   "metadata": {},
   "outputs": [
    {
     "name": "stdout",
     "output_type": "stream",
     "text": [
      "Unique values in column Unnamed: 0: 1296675\n",
      "Unique values in column trans_date_trans_time: 1274791\n",
      "Unique values in column cc_num: 983\n",
      "Unique values in column merchant: 693\n",
      "Unique values in column category: 14\n",
      "Unique values in column amt: 52928\n",
      "Unique values in column first: 352\n",
      "Unique values in column last: 481\n",
      "Unique values in column gender: 2\n",
      "Unique values in column street: 983\n",
      "Unique values in column city: 894\n",
      "Unique values in column state: 51\n",
      "Unique values in column zip: 970\n",
      "Unique values in column lat: 968\n",
      "Unique values in column long: 969\n",
      "Unique values in column city_pop: 879\n",
      "Unique values in column job: 494\n",
      "Unique values in column dob: 968\n",
      "Unique values in column trans_num: 1296675\n",
      "Unique values in column unix_time: 1274823\n",
      "Unique values in column merch_lat: 1247805\n",
      "Unique values in column merch_long: 1275745\n",
      "Unique values in column is_fraud: 2\n"
     ]
    }
   ],
   "source": [
    "## Chheck for values which have unique values in them\n",
    "for column_name in train_df.columns:\n",
    "    unique_values = train_df[column_name].nunique()\n",
    "    print(f'Unique values in column {column_name}: {unique_values}')"
   ]
  },
  {
   "cell_type": "code",
   "execution_count": 13,
   "id": "7b6929d8",
   "metadata": {},
   "outputs": [],
   "source": [
    "## Drop unneccesary columns like unnamed:0\n",
    "dropColumn =[\"Unnamed: 0\",\"job\" ,\"cc_num\",\"trans_num\",\"zip\" ,\"unix_time\",\"merch_lat\",\"merch_long\",\"dob\",\"first\",\"last\",\"street\",\"city\"] \n",
    "train_df.drop(dropColumn,axis = 1,inplace = True)\n",
    "test_df.drop(dropColumn,axis = 1,inplace = True)"
   ]
  },
  {
   "cell_type": "code",
   "execution_count": 14,
   "id": "07410811",
   "metadata": {},
   "outputs": [
    {
     "data": {
      "text/html": [
       "<div>\n",
       "<style scoped>\n",
       "    .dataframe tbody tr th:only-of-type {\n",
       "        vertical-align: middle;\n",
       "    }\n",
       "\n",
       "    .dataframe tbody tr th {\n",
       "        vertical-align: top;\n",
       "    }\n",
       "\n",
       "    .dataframe thead th {\n",
       "        text-align: right;\n",
       "    }\n",
       "</style>\n",
       "<table border=\"1\" class=\"dataframe\">\n",
       "  <thead>\n",
       "    <tr style=\"text-align: right;\">\n",
       "      <th></th>\n",
       "      <th>trans_date_trans_time</th>\n",
       "      <th>merchant</th>\n",
       "      <th>category</th>\n",
       "      <th>amt</th>\n",
       "      <th>gender</th>\n",
       "      <th>state</th>\n",
       "      <th>lat</th>\n",
       "      <th>long</th>\n",
       "      <th>city_pop</th>\n",
       "      <th>is_fraud</th>\n",
       "    </tr>\n",
       "  </thead>\n",
       "  <tbody>\n",
       "    <tr>\n",
       "      <th>0</th>\n",
       "      <td>2019-01-01 00:00:18</td>\n",
       "      <td>fraud_Rippin, Kub and Mann</td>\n",
       "      <td>misc_net</td>\n",
       "      <td>4.97</td>\n",
       "      <td>F</td>\n",
       "      <td>NC</td>\n",
       "      <td>36.0788</td>\n",
       "      <td>-81.1781</td>\n",
       "      <td>3495</td>\n",
       "      <td>0</td>\n",
       "    </tr>\n",
       "    <tr>\n",
       "      <th>1</th>\n",
       "      <td>2019-01-01 00:00:44</td>\n",
       "      <td>fraud_Heller, Gutmann and Zieme</td>\n",
       "      <td>grocery_pos</td>\n",
       "      <td>107.23</td>\n",
       "      <td>F</td>\n",
       "      <td>WA</td>\n",
       "      <td>48.8878</td>\n",
       "      <td>-118.2105</td>\n",
       "      <td>149</td>\n",
       "      <td>0</td>\n",
       "    </tr>\n",
       "  </tbody>\n",
       "</table>\n",
       "</div>"
      ],
      "text/plain": [
       "  trans_date_trans_time                         merchant     category     amt  \\\n",
       "0   2019-01-01 00:00:18       fraud_Rippin, Kub and Mann     misc_net    4.97   \n",
       "1   2019-01-01 00:00:44  fraud_Heller, Gutmann and Zieme  grocery_pos  107.23   \n",
       "\n",
       "  gender state      lat      long  city_pop  is_fraud  \n",
       "0      F    NC  36.0788  -81.1781      3495         0  \n",
       "1      F    WA  48.8878 -118.2105       149         0  "
      ]
     },
     "execution_count": 14,
     "metadata": {},
     "output_type": "execute_result"
    }
   ],
   "source": [
    "## View the data after dropping unnecessary columns\n",
    "train_df.head(2)"
   ]
  },
  {
   "cell_type": "code",
   "execution_count": 15,
   "id": "9585c546",
   "metadata": {},
   "outputs": [],
   "source": [
    "## Create a fuction convert the trans_time_into day of week\n",
    "def datetoDay(time):\n",
    "    timestamp = datetime.strptime(time, \"%Y-%m-%d %H:%M:%S\")\n",
    "\n",
    "    # Get the day of the week as a string\n",
    "    day_of_week = timestamp.strftime(\"%A\")\n",
    "    return day_of_week"
   ]
  },
  {
   "cell_type": "code",
   "execution_count": 16,
   "id": "acd862a9",
   "metadata": {},
   "outputs": [],
   "source": [
    "## Apply the conversion on each sample of test and train\n",
    "train_df[\"trans_date_trans_time\"] = train_df[\"trans_date_trans_time\"].apply(datetoDay)\n",
    "test_df[\"trans_date_trans_time\"] = test_df[\"trans_date_trans_time\"].apply(datetoDay)"
   ]
  },
  {
   "cell_type": "code",
   "execution_count": 17,
   "id": "120b389e",
   "metadata": {},
   "outputs": [
    {
     "data": {
      "text/html": [
       "<div>\n",
       "<style scoped>\n",
       "    .dataframe tbody tr th:only-of-type {\n",
       "        vertical-align: middle;\n",
       "    }\n",
       "\n",
       "    .dataframe tbody tr th {\n",
       "        vertical-align: top;\n",
       "    }\n",
       "\n",
       "    .dataframe thead th {\n",
       "        text-align: right;\n",
       "    }\n",
       "</style>\n",
       "<table border=\"1\" class=\"dataframe\">\n",
       "  <thead>\n",
       "    <tr style=\"text-align: right;\">\n",
       "      <th></th>\n",
       "      <th>trans_date_trans_time</th>\n",
       "      <th>merchant</th>\n",
       "      <th>category</th>\n",
       "      <th>amt</th>\n",
       "      <th>gender</th>\n",
       "      <th>state</th>\n",
       "      <th>lat</th>\n",
       "      <th>long</th>\n",
       "      <th>city_pop</th>\n",
       "      <th>is_fraud</th>\n",
       "    </tr>\n",
       "  </thead>\n",
       "  <tbody>\n",
       "    <tr>\n",
       "      <th>0</th>\n",
       "      <td>Tuesday</td>\n",
       "      <td>fraud_Rippin, Kub and Mann</td>\n",
       "      <td>misc_net</td>\n",
       "      <td>4.97</td>\n",
       "      <td>F</td>\n",
       "      <td>NC</td>\n",
       "      <td>36.0788</td>\n",
       "      <td>-81.1781</td>\n",
       "      <td>3495</td>\n",
       "      <td>0</td>\n",
       "    </tr>\n",
       "    <tr>\n",
       "      <th>1</th>\n",
       "      <td>Tuesday</td>\n",
       "      <td>fraud_Heller, Gutmann and Zieme</td>\n",
       "      <td>grocery_pos</td>\n",
       "      <td>107.23</td>\n",
       "      <td>F</td>\n",
       "      <td>WA</td>\n",
       "      <td>48.8878</td>\n",
       "      <td>-118.2105</td>\n",
       "      <td>149</td>\n",
       "      <td>0</td>\n",
       "    </tr>\n",
       "    <tr>\n",
       "      <th>2</th>\n",
       "      <td>Tuesday</td>\n",
       "      <td>fraud_Lind-Buckridge</td>\n",
       "      <td>entertainment</td>\n",
       "      <td>220.11</td>\n",
       "      <td>M</td>\n",
       "      <td>ID</td>\n",
       "      <td>42.1808</td>\n",
       "      <td>-112.2620</td>\n",
       "      <td>4154</td>\n",
       "      <td>0</td>\n",
       "    </tr>\n",
       "    <tr>\n",
       "      <th>3</th>\n",
       "      <td>Tuesday</td>\n",
       "      <td>fraud_Kutch, Hermiston and Farrell</td>\n",
       "      <td>gas_transport</td>\n",
       "      <td>45.00</td>\n",
       "      <td>M</td>\n",
       "      <td>MT</td>\n",
       "      <td>46.2306</td>\n",
       "      <td>-112.1138</td>\n",
       "      <td>1939</td>\n",
       "      <td>0</td>\n",
       "    </tr>\n",
       "    <tr>\n",
       "      <th>4</th>\n",
       "      <td>Tuesday</td>\n",
       "      <td>fraud_Keeling-Crist</td>\n",
       "      <td>misc_pos</td>\n",
       "      <td>41.96</td>\n",
       "      <td>M</td>\n",
       "      <td>VA</td>\n",
       "      <td>38.4207</td>\n",
       "      <td>-79.4629</td>\n",
       "      <td>99</td>\n",
       "      <td>0</td>\n",
       "    </tr>\n",
       "  </tbody>\n",
       "</table>\n",
       "</div>"
      ],
      "text/plain": [
       "  trans_date_trans_time                            merchant       category  \\\n",
       "0               Tuesday          fraud_Rippin, Kub and Mann       misc_net   \n",
       "1               Tuesday     fraud_Heller, Gutmann and Zieme    grocery_pos   \n",
       "2               Tuesday                fraud_Lind-Buckridge  entertainment   \n",
       "3               Tuesday  fraud_Kutch, Hermiston and Farrell  gas_transport   \n",
       "4               Tuesday                 fraud_Keeling-Crist       misc_pos   \n",
       "\n",
       "      amt gender state      lat      long  city_pop  is_fraud  \n",
       "0    4.97      F    NC  36.0788  -81.1781      3495         0  \n",
       "1  107.23      F    WA  48.8878 -118.2105       149         0  \n",
       "2  220.11      M    ID  42.1808 -112.2620      4154         0  \n",
       "3   45.00      M    MT  46.2306 -112.1138      1939         0  \n",
       "4   41.96      M    VA  38.4207  -79.4629        99         0  "
      ]
     },
     "execution_count": 17,
     "metadata": {},
     "output_type": "execute_result"
    }
   ],
   "source": [
    "train_df.head()"
   ]
  },
  {
   "cell_type": "markdown",
   "id": "ec71d5e6",
   "metadata": {},
   "source": [
    "## Data Visualization"
   ]
  },
  {
   "cell_type": "code",
   "execution_count": 18,
   "id": "ee8aae57",
   "metadata": {},
   "outputs": [
    {
     "data": {
      "text/plain": [
       "0    1289169\n",
       "1       7506\n",
       "Name: is_fraud, dtype: int64"
      ]
     },
     "execution_count": 18,
     "metadata": {},
     "output_type": "execute_result"
    }
   ],
   "source": [
    "## Check for imbalanced data\n",
    "train_df[\"is_fraud\"].value_counts()"
   ]
  },
  {
   "cell_type": "code",
   "execution_count": 19,
   "id": "d83bcb58",
   "metadata": {},
   "outputs": [
    {
     "data": {
      "text/plain": [
       "<Axes: xlabel='is_fraud', ylabel='count'>"
      ]
     },
     "execution_count": 19,
     "metadata": {},
     "output_type": "execute_result"
    },
    {
     "data": {
      "image/png": "[encoded data removed]",
      "text/plain": [
       "<Figure size 640x480 with 1 Axes>"
      ]
     },
     "metadata": {},
     "output_type": "display_data"
    }
   ],
   "source": [
    "## Plot the unbalanced data\n",
    "plt.style.use(\"ggplot\")\n",
    "sns.countplot(x= train_df[\"is_fraud\"])"
   ]
  },
  {
   "cell_type": "code",
   "execution_count": 20,
   "id": "421acbd0",
   "metadata": {},
   "outputs": [
    {
     "data": {
      "text/plain": [
       "<Axes: xlabel='gender', ylabel='count'>"
      ]
     },
     "execution_count": 20,
     "metadata": {},
     "output_type": "execute_result"
    },
    {
     "data": {
      "image/png": "[encoded data removed]",
      "text/plain": [
       "<Figure size 640x480 with 1 Axes>"
      ]
     },
     "metadata": {},
     "output_type": "display_data"
    }
   ],
   "source": [
    "## Plot a count plot gender and fraud \n",
    "sns.countplot(x= train_df[\"gender\"],hue = \"is_fraud\",data = train_df)"
   ]
  },
  {
   "cell_type": "code",
   "execution_count": 21,
   "id": "75a0a0b0",
   "metadata": {},
   "outputs": [
    {
     "data": {
      "text/plain": [
       "<Axes: xlabel='trans_date_trans_time', ylabel='count'>"
      ]
     },
     "execution_count": 21,
     "metadata": {},
     "output_type": "execute_result"
    },
    {
     "data": {
      "image/png": "[encoded data removed]",
      "text/plain": [
       "<Figure size 640x480 with 1 Axes>"
      ]
     },
     "metadata": {},
     "output_type": "display_data"
    }
   ],
   "source": [
    "## Plot the day and fraud occur more\n",
    "sns.countplot(x= train_df[\"trans_date_trans_time\"],hue = \"is_fraud\",data = train_df)"
   ]
  },
  {
   "cell_type": "code",
   "execution_count": null,
   "id": "30e3a57d",
   "metadata": {},
   "outputs": [],
   "source": []
  },
  {
   "cell_type": "markdown",
   "id": "cab2c881",
   "metadata": {},
   "source": [
    "## Data Preprocessing"
   ]
  },
  {
   "cell_type": "markdown",
   "id": "47b65271",
   "metadata": {},
   "source": [
    "### Without Handling Imbalanced Data"
   ]
  },
  {
   "cell_type": "code",
   "execution_count": 22,
   "id": "525a1b14",
   "metadata": {},
   "outputs": [],
   "source": [
    "## Import necessary libraries for preprocessing \n",
    "\n",
    "from sklearn.preprocessing import OneHotEncoder , StandardScaler\n",
    "from imblearn.over_sampling import SMOTE\n",
    "from sklearn.compose import ColumnTransformer \n",
    "\n",
    "x_train = train_df.drop(\"is_fraud\" ,axis = 1)\n",
    "y_train = train_df[\"is_fraud\"]\n",
    "\n",
    "x_test = test_df.drop(\"is_fraud\" ,axis = 1)\n",
    "y_test = test_df[\"is_fraud\"]\n",
    "\n",
    "\n",
    "categ = [\"trans_date_trans_time\",\"merchant\",\"category\",\"gender\",\"state\"]\n",
    "numeric = [\"amt\",\"lat\" ,\"long\" ,\"city_pop\"]\n",
    "\n",
    "\n",
    "\n",
    "encoder = OneHotEncoder()\n",
    "scaler = StandardScaler()\n",
    "\n",
    "transf = ColumnTransformer(transformers = [(\"categorical\",encoder ,categ),\n",
    "                                            (\"num\",scaler,numeric)],remainder=\"passthrough\")\n",
    "x_train = transf.fit_transform(x_train)\n",
    "x_test = transf.transform(x_test)"
   ]
  },
  {
   "cell_type": "code",
   "execution_count": 23,
   "id": "76d50a61",
   "metadata": {},
   "outputs": [
    {
     "data": {
      "text/plain": [
       "((1296675, 771), (555719, 771), (1296675,), (555719,))"
      ]
     },
     "execution_count": 23,
     "metadata": {},
     "output_type": "execute_result"
    }
   ],
   "source": [
    "## Check the shape of each data\n",
    "\n",
    "x_train.shape,x_test.shape ,y_train.shape ,y_test.shape"
   ]
  },
  {
   "cell_type": "code",
   "execution_count": 24,
   "id": "75fe699c",
   "metadata": {},
   "outputs": [],
   "source": [
    "## Create a testing function for model\n",
    "def model_testing(estimator):\n",
    "    ## Prediction on data\n",
    "    y_preds = estimator.predict(x_test)\n",
    "     \n",
    "    ##Print accuracy score\n",
    "    print(\"Accuracy Score : \",accuracy_score(y_test,y_preds))\n",
    "\n",
    "    ## Print classification report\n",
    "    print(\"\\nConfussion Matrix :\\n \" ,confusion_matrix(y_test ,y_preds),\"\\n\")\n",
    "\n",
    "    ## Check confusion matrix\n",
    "    print(\"classification_report: \\n\\n\",classification_report(y_test ,y_preds))"
   ]
  },
  {
   "cell_type": "markdown",
   "id": "96c1b46d",
   "metadata": {},
   "source": [
    "## Model selection"
   ]
  },
  {
   "cell_type": "code",
   "execution_count": 25,
   "id": "c9e63661",
   "metadata": {},
   "outputs": [],
   "source": [
    "## Import all the models\n",
    "from sklearn.linear_model import LogisticRegression\n",
    "from sklearn.tree import DecisionTreeClassifier \n",
    "from sklearn.ensemble import RandomForestClassifier\n",
    "from sklearn.metrics import accuracy_score,classification_report,confusion_matrix"
   ]
  },
  {
   "cell_type": "markdown",
   "id": "6d89180a",
   "metadata": {},
   "source": [
    "### Logistic Regression\n",
    "- Apply LogisticRegression without balancing the data"
   ]
  },
  {
   "cell_type": "code",
   "execution_count": 26,
   "id": "cbd7fce7",
   "metadata": {},
   "outputs": [
    {
     "name": "stderr",
     "output_type": "stream",
     "text": [
      "C:\\Users\\Barcha\\anaconda\\lib\\site-packages\\sklearn\\linear_model\\_logistic.py:458: ConvergenceWarning: lbfgs failed to converge (status=1):\n",
      "STOP: TOTAL NO. of ITERATIONS REACHED LIMIT.\n",
      "\n",
      "Increase the number of iterations (max_iter) or scale the data as shown in:\n",
      "    https://scikit-learn.org/stable/modules/preprocessing.html\n",
      "Please also refer to the documentation for alternative solver options:\n",
      "    https://scikit-learn.org/stable/modules/linear_model.html#logistic-regression\n",
      "  n_iter_i = _check_optimize_result(\n"
     ]
    },
    {
     "name": "stdout",
     "output_type": "stream",
     "text": [
      "Accuracy Score :  0.995531914510751\n",
      "\n",
      "Confussion Matrix :\n",
      "  [[553235    339]\n",
      " [  2144      1]] \n",
      "\n",
      "classification_report: \n",
      "\n",
      "               precision    recall  f1-score   support\n",
      "\n",
      "           0       1.00      1.00      1.00    553574\n",
      "           1       0.00      0.00      0.00      2145\n",
      "\n",
      "    accuracy                           1.00    555719\n",
      "   macro avg       0.50      0.50      0.50    555719\n",
      "weighted avg       0.99      1.00      0.99    555719\n",
      "\n"
     ]
    }
   ],
   "source": [
    "## Logistic regression without balancing data\n",
    "model = LogisticRegression()\n",
    "model.fit(x_train ,y_train)\n",
    "model_testing(model)"
   ]
  },
  {
   "cell_type": "code",
   "execution_count": null,
   "id": "17abad5b",
   "metadata": {},
   "outputs": [],
   "source": []
  },
  {
   "cell_type": "markdown",
   "id": "4877a089",
   "metadata": {},
   "source": [
    "### DecisionTreeClassifier\n",
    "- Apply DecisionTree without balancing the datasets"
   ]
  },
  {
   "cell_type": "code",
   "execution_count": 27,
   "id": "9200058a",
   "metadata": {},
   "outputs": [
    {
     "name": "stdout",
     "output_type": "stream",
     "text": [
      "Accuracy Score :  0.9964154545732645\n",
      "\n",
      "Confussion Matrix :\n",
      "  [[552469   1105]\n",
      " [   887   1258]] \n",
      "\n",
      "classification_report: \n",
      "\n",
      "               precision    recall  f1-score   support\n",
      "\n",
      "           0       1.00      1.00      1.00    553574\n",
      "           1       0.53      0.59      0.56      2145\n",
      "\n",
      "    accuracy                           1.00    555719\n",
      "   macro avg       0.77      0.79      0.78    555719\n",
      "weighted avg       1.00      1.00      1.00    555719\n",
      "\n"
     ]
    },
    {
     "data": {
      "text/plain": [
       "0.9964154545732645"
      ]
     },
     "execution_count": 27,
     "metadata": {},
     "output_type": "execute_result"
    }
   ],
   "source": [
    "## Logistic regression without balancing data\n",
    "dt = DecisionTreeClassifier()\n",
    "dt.fit(x_train ,y_train)\n",
    "model_testing(dt)\n",
    "dt.score(x_test ,y_test)\n"
   ]
  },
  {
   "cell_type": "code",
   "execution_count": null,
   "id": "fba3dee1",
   "metadata": {},
   "outputs": [],
   "source": []
  },
  {
   "cell_type": "markdown",
   "id": "686c88c5",
   "metadata": {},
   "source": [
    "### RandomForestClassifier "
   ]
  },
  {
   "cell_type": "code",
   "execution_count": 28,
   "id": "08bfea29",
   "metadata": {},
   "outputs": [
    {
     "name": "stdout",
     "output_type": "stream",
     "text": [
      "Accuracy Score :  0.997430355989268\n",
      "\n",
      "Confussion Matrix :\n",
      "  [[553400    174]\n",
      " [  1254    891]] \n",
      "\n",
      "classification_report: \n",
      "\n",
      "               precision    recall  f1-score   support\n",
      "\n",
      "           0       1.00      1.00      1.00    553574\n",
      "           1       0.84      0.42      0.56      2145\n",
      "\n",
      "    accuracy                           1.00    555719\n",
      "   macro avg       0.92      0.71      0.78    555719\n",
      "weighted avg       1.00      1.00      1.00    555719\n",
      "\n"
     ]
    },
    {
     "data": {
      "text/plain": [
       "0.997430355989268"
      ]
     },
     "execution_count": 28,
     "metadata": {},
     "output_type": "execute_result"
    }
   ],
   "source": [
    "## Logistic regression without balancing data\n",
    "rf = RandomForestClassifier()\n",
    "rf.fit(x_train ,y_train)\n",
    "model_testing(rf)\n",
    "rf.score(x_test ,y_test)"
   ]
  },
  {
   "cell_type": "code",
   "execution_count": null,
   "id": "7db81906",
   "metadata": {},
   "outputs": [],
   "source": []
  },
  {
   "cell_type": "markdown",
   "id": "42656669",
   "metadata": {},
   "source": [
    "### Conclusiom\n",
    "\n",
    "    As we can see from above that the accuracy was high but the recall and and f1 score was very low this is because due to larger samples of False Value the model is showing biaseness toward a single class and count predict the low sample class correctly. To solve this issue we will\n",
    "    - Balanced the samples either(underSampling or OverSampling)"
   ]
  },
  {
   "cell_type": "markdown",
   "id": "b013deb2",
   "metadata": {},
   "source": [
    "# Model prediction by Balancing Samples"
   ]
  },
  {
   "cell_type": "markdown",
   "id": "4c450579",
   "metadata": {},
   "source": [
    "## UnderSampling"
   ]
  },
  {
   "cell_type": "code",
   "execution_count": 29,
   "id": "839c070a",
   "metadata": {},
   "outputs": [],
   "source": [
    "## Balance the imbalanced data apply undersampling\n",
    "from imblearn.under_sampling import RandomUnderSampler\n",
    "\n",
    "sampler = RandomUnderSampler()\n",
    "\n",
    "x_train = train_df.drop(\"is_fraud\" ,axis = 1)\n",
    "y_train = train_df[\"is_fraud\"]\n",
    "\n",
    "x_test = test_df.drop(\"is_fraud\" ,axis = 1)\n",
    "y_test = test_df[\"is_fraud\"]\n",
    "\n",
    "x_sampled ,y_sampled =sampler.fit_resample(x_train ,y_train) \n",
    "\n",
    "categ = [\"trans_date_trans_time\",\"merchant\",\"category\",\"gender\",\"state\"]\n",
    "numeric = [\"amt\",\"lat\" ,\"long\" ,\"city_pop\"]\n",
    "\n",
    "\n",
    "\n",
    "encoder = OneHotEncoder()\n",
    "scaler = StandardScaler()\n",
    "\n",
    "transf = ColumnTransformer(transformers = [(\"categorical\",encoder ,categ),\n",
    "                                            (\"num\",scaler,numeric)],remainder=\"passthrough\")\n",
    "x_train = transf.fit_transform(x_sampled)\n",
    "x_test = transf.transform(x_test)"
   ]
  },
  {
   "cell_type": "code",
   "execution_count": 30,
   "id": "41c389a9",
   "metadata": {},
   "outputs": [
    {
     "data": {
      "text/plain": [
       "((15012, 771), (555719, 771), (15012,), (555719,))"
      ]
     },
     "execution_count": 30,
     "metadata": {},
     "output_type": "execute_result"
    }
   ],
   "source": [
    "## Check the shape of each data\n",
    "\n",
    "x_train.shape,x_test.shape ,y_sampled.shape ,y_test.shape"
   ]
  },
  {
   "cell_type": "code",
   "execution_count": null,
   "id": "95190a6d",
   "metadata": {},
   "outputs": [],
   "source": [
    "\n",
    "    \n",
    "    "
   ]
  },
  {
   "cell_type": "markdown",
   "id": "c2ef4c0b",
   "metadata": {},
   "source": [
    "### Logistic Regression \n",
    "- Model Training on Undersampled Data"
   ]
  },
  {
   "cell_type": "code",
   "execution_count": 31,
   "id": "b1c06852",
   "metadata": {},
   "outputs": [
    {
     "name": "stderr",
     "output_type": "stream",
     "text": [
      "C:\\Users\\Barcha\\anaconda\\lib\\site-packages\\sklearn\\linear_model\\_logistic.py:458: ConvergenceWarning: lbfgs failed to converge (status=1):\n",
      "STOP: TOTAL NO. of ITERATIONS REACHED LIMIT.\n",
      "\n",
      "Increase the number of iterations (max_iter) or scale the data as shown in:\n",
      "    https://scikit-learn.org/stable/modules/preprocessing.html\n",
      "Please also refer to the documentation for alternative solver options:\n",
      "    https://scikit-learn.org/stable/modules/linear_model.html#logistic-regression\n",
      "  n_iter_i = _check_optimize_result(\n"
     ]
    },
    {
     "name": "stdout",
     "output_type": "stream",
     "text": [
      "Accuracy Score :  0.8800400922048733\n",
      "\n",
      "Confussion Matrix :\n",
      "  [[487453  66121]\n",
      " [   543   1602]] \n",
      "\n",
      "classification_report: \n",
      "\n",
      "               precision    recall  f1-score   support\n",
      "\n",
      "           0       1.00      0.88      0.94    553574\n",
      "           1       0.02      0.75      0.05      2145\n",
      "\n",
      "    accuracy                           0.88    555719\n",
      "   macro avg       0.51      0.81      0.49    555719\n",
      "weighted avg       1.00      0.88      0.93    555719\n",
      "\n"
     ]
    }
   ],
   "source": [
    "model = LogisticRegression()\n",
    "model.fit(x_train ,y_sampled)\n",
    "model_testing(model)"
   ]
  },
  {
   "cell_type": "code",
   "execution_count": null,
   "id": "d67c85d1",
   "metadata": {},
   "outputs": [],
   "source": []
  },
  {
   "cell_type": "markdown",
   "id": "dd87fdaa",
   "metadata": {},
   "source": [
    "### DecisionTreeClassifier\n",
    "- Model Training on Undersampled Data"
   ]
  },
  {
   "cell_type": "code",
   "execution_count": 32,
   "id": "67d0dc7f",
   "metadata": {},
   "outputs": [
    {
     "name": "stdout",
     "output_type": "stream",
     "text": [
      "Accuracy Score :  0.9529438439211184\n",
      "\n",
      "Confussion Matrix :\n",
      "  [[527522  26052]\n",
      " [    98   2047]] \n",
      "\n",
      "classification_report: \n",
      "\n",
      "               precision    recall  f1-score   support\n",
      "\n",
      "           0       1.00      0.95      0.98    553574\n",
      "           1       0.07      0.95      0.14      2145\n",
      "\n",
      "    accuracy                           0.95    555719\n",
      "   macro avg       0.54      0.95      0.56    555719\n",
      "weighted avg       1.00      0.95      0.97    555719\n",
      "\n"
     ]
    },
    {
     "data": {
      "text/plain": [
       "0.9529438439211184"
      ]
     },
     "execution_count": 32,
     "metadata": {},
     "output_type": "execute_result"
    }
   ],
   "source": [
    "## Logistic regression without balancing data\n",
    "dt = DecisionTreeClassifier()\n",
    "dt.fit(x_train ,y_sampled)\n",
    "model_testing(dt)\n",
    "dt.score(x_test ,y_test)"
   ]
  },
  {
   "cell_type": "code",
   "execution_count": null,
   "id": "e09e6b07",
   "metadata": {},
   "outputs": [],
   "source": []
  },
  {
   "cell_type": "markdown",
   "id": "50505210",
   "metadata": {},
   "source": [
    "### RandomForestClassifier \n",
    "- Model Training on Undersampled Data"
   ]
  },
  {
   "cell_type": "code",
   "execution_count": 33,
   "id": "d0658ee4",
   "metadata": {},
   "outputs": [
    {
     "name": "stdout",
     "output_type": "stream",
     "text": [
      "Accuracy Score :  0.9735909695367623\n",
      "\n",
      "Confussion Matrix :\n",
      "  [[539141  14433]\n",
      " [   243   1902]] \n",
      "\n",
      "classification_report: \n",
      "\n",
      "               precision    recall  f1-score   support\n",
      "\n",
      "           0       1.00      0.97      0.99    553574\n",
      "           1       0.12      0.89      0.21      2145\n",
      "\n",
      "    accuracy                           0.97    555719\n",
      "   macro avg       0.56      0.93      0.60    555719\n",
      "weighted avg       1.00      0.97      0.98    555719\n",
      "\n"
     ]
    },
    {
     "data": {
      "text/plain": [
       "0.9735909695367623"
      ]
     },
     "execution_count": 33,
     "metadata": {},
     "output_type": "execute_result"
    }
   ],
   "source": [
    "## Logistic regression without balancing data\n",
    "rf = RandomForestClassifier()\n",
    "rf.fit(x_train ,y_sampled)\n",
    "model_testing(rf)\n",
    "rf.score(x_test ,y_test)"
   ]
  },
  {
   "cell_type": "code",
   "execution_count": null,
   "id": "4a6ba3a0",
   "metadata": {},
   "outputs": [],
   "source": []
  },
  {
   "cell_type": "markdown",
   "id": "53f74db9",
   "metadata": {},
   "source": [
    "## OverSampling"
   ]
  },
  {
   "cell_type": "code",
   "execution_count": 34,
   "id": "d10f59a6",
   "metadata": {},
   "outputs": [],
   "source": [
    "## Balance the imbalanced data using Oversampling\n",
    "from imblearn.over_sampling import SMOTE\n",
    "\n",
    "Over_sampler = SMOTE()\n",
    "\n",
    "x_train = train_df.drop(\"is_fraud\" ,axis = 1)\n",
    "y_train = train_df[\"is_fraud\"]\n",
    "\n",
    "x_test = test_df.drop(\"is_fraud\" ,axis = 1)\n",
    "y_test = test_df[\"is_fraud\"]\n",
    "\n",
    "x_sampled_O ,y_sampled_O =Over_sampler.fit_resample(x_train ,y_train) \n",
    "\n",
    "categ = [\"trans_date_trans_time\",\"merchant\",\"category\",\"gender\",\"state\"]\n",
    "numeric = [\"amt\",\"lat\" ,\"long\" ,\"city_pop\"]\n",
    "\n",
    "\n",
    "\n",
    "encoder = OneHotEncoder()\n",
    "scaler = StandardScaler()\n",
    "\n",
    "transf = ColumnTransformer(transformers = [(\"categorical\",encoder ,categ),\n",
    "                                            (\"num\",scaler,numeric)],remainder=\"passthrough\")\n",
    "x_train = transf.fit_transform(x_sampled_O)\n",
    "x_test = transf.transform(x_test)"
   ]
  },
  {
   "cell_type": "markdown",
   "id": "3fc3782d",
   "metadata": {},
   "source": [
    "### LogisticRegression\n",
    "- Model Training on Oversampled Data"
   ]
  },
  {
   "cell_type": "code",
   "execution_count": 35,
   "id": "98f2ce1f",
   "metadata": {},
   "outputs": [
    {
     "name": "stderr",
     "output_type": "stream",
     "text": [
      "C:\\Users\\Barcha\\anaconda\\lib\\site-packages\\sklearn\\linear_model\\_logistic.py:458: ConvergenceWarning: lbfgs failed to converge (status=1):\n",
      "STOP: TOTAL NO. of ITERATIONS REACHED LIMIT.\n",
      "\n",
      "Increase the number of iterations (max_iter) or scale the data as shown in:\n",
      "    https://scikit-learn.org/stable/modules/preprocessing.html\n",
      "Please also refer to the documentation for alternative solver options:\n",
      "    https://scikit-learn.org/stable/modules/linear_model.html#logistic-regression\n",
      "  n_iter_i = _check_optimize_result(\n"
     ]
    },
    {
     "name": "stdout",
     "output_type": "stream",
     "text": [
      "Accuracy Score :  0.8865451784085122\n",
      "\n",
      "Confussion Matrix :\n",
      "  [[491074  62500]\n",
      " [   549   1596]] \n",
      "\n",
      "classification_report: \n",
      "\n",
      "               precision    recall  f1-score   support\n",
      "\n",
      "           0       1.00      0.89      0.94    553574\n",
      "           1       0.02      0.74      0.05      2145\n",
      "\n",
      "    accuracy                           0.89    555719\n",
      "   macro avg       0.51      0.82      0.49    555719\n",
      "weighted avg       1.00      0.89      0.94    555719\n",
      "\n"
     ]
    }
   ],
   "source": [
    "## Logistic regression without balancing data\n",
    "model = LogisticRegression()\n",
    "model.fit(x_train ,y_sampled_O)\n",
    "model_testing(model)"
   ]
  },
  {
   "cell_type": "markdown",
   "id": "950334b1",
   "metadata": {},
   "source": [
    "### DecisionTreeClassifier\n",
    "- Model Training on Oversampled Data"
   ]
  },
  {
   "cell_type": "code",
   "execution_count": 36,
   "id": "46e60e6b",
   "metadata": {},
   "outputs": [
    {
     "name": "stdout",
     "output_type": "stream",
     "text": [
      "Accuracy Score :  0.9959313969830076\n",
      "\n",
      "Confussion Matrix :\n",
      "  [[552219   1355]\n",
      " [   906   1239]] \n",
      "\n",
      "classification_report: \n",
      "\n",
      "               precision    recall  f1-score   support\n",
      "\n",
      "           0       1.00      1.00      1.00    553574\n",
      "           1       0.48      0.58      0.52      2145\n",
      "\n",
      "    accuracy                           1.00    555719\n",
      "   macro avg       0.74      0.79      0.76    555719\n",
      "weighted avg       1.00      1.00      1.00    555719\n",
      "\n"
     ]
    },
    {
     "data": {
      "text/plain": [
       "0.9959313969830076"
      ]
     },
     "execution_count": 36,
     "metadata": {},
     "output_type": "execute_result"
    }
   ],
   "source": [
    "## Logistic regression without balancing data\n",
    "dt = DecisionTreeClassifier()\n",
    "dt.fit(x_train ,y_sampled_O)\n",
    "model_testing(dt)\n",
    "dt.score(x_test ,y_test)"
   ]
  },
  {
   "cell_type": "markdown",
   "id": "a4f0d56b",
   "metadata": {},
   "source": [
    "### RandomForestClassifier \n",
    "- Model Training on Oversampled Data"
   ]
  },
  {
   "cell_type": "code",
   "execution_count": 37,
   "id": "384c0948",
   "metadata": {},
   "outputs": [
    {
     "name": "stdout",
     "output_type": "stream",
     "text": [
      "Accuracy Score :  0.9974321554598637\n",
      "\n",
      "Confussion Matrix :\n",
      "  [[553277    297]\n",
      " [  1130   1015]] \n",
      "\n",
      "classification_report: \n",
      "\n",
      "               precision    recall  f1-score   support\n",
      "\n",
      "           0       1.00      1.00      1.00    553574\n",
      "           1       0.77      0.47      0.59      2145\n",
      "\n",
      "    accuracy                           1.00    555719\n",
      "   macro avg       0.89      0.74      0.79    555719\n",
      "weighted avg       1.00      1.00      1.00    555719\n",
      "\n"
     ]
    },
    {
     "data": {
      "text/plain": [
       "0.9974321554598637"
      ]
     },
     "execution_count": 37,
     "metadata": {},
     "output_type": "execute_result"
    }
   ],
   "source": [
    "## Logistic regression without balancing data\n",
    "rf = RandomForestClassifier()\n",
    "rf.fit(x_train ,y_sampled_O)\n",
    "model_testing(rf)\n",
    "rf.score(x_test ,y_test)"
   ]
  }
 ],
 "metadata": {
  "kernelspec": {
   "display_name": "Python 3 (ipykernel)",
   "language": "python",
   "name": "python3"
  },
  "language_info": {
   "codemirror_mode": {
    "name": "ipython",
    "version": 3
   },
   "file_extension": ".py",
   "mimetype": "text/x-python",
   "name": "python",
   "nbconvert_exporter": "python",
   "pygments_lexer": "ipython3",
   "version": "3.10.9"
  }
 },
 "nbformat": 4,
 "nbformat_minor": 5
}
